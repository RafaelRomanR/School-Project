{
 "cells": [
  {
   "cell_type": "code",
   "execution_count": 4,
   "id": "f3456bb8",
   "metadata": {},
   "outputs": [
    {
     "name": "stdout",
     "output_type": "stream",
     "text": [
      "search a city weather: Naguabo\n"
     ]
    },
    {
     "data": {
      "text/plain": [
       "dict_keys(['request', 'location', 'current', 'forecast'])"
      ]
     },
     "execution_count": 4,
     "metadata": {},
     "output_type": "execute_result"
    }
   ],
   "source": [
    "import requests\n",
    "import json\n",
    "#using the http://api.weatherstack.com/ we will be able to search for a city weather  \n",
    "\n",
    "# the user is able to search the weather of a city \n",
    "searchCity = input(\"search a city weather: \")\n",
    "\n",
    "# get the page using the request.get and put the link of the API \n",
    "pageWeather = requests.get('http://api.weatherstack.com/forecast?access_key=7dfeea8c84bd7b6d52fd48b890048dd2&query='+searchCity+'&units=f')\n",
    "\n",
    "#check if the page succesfully make a connection \n",
    "if pageWeather.status_code != requests.codes.ok :\n",
    "    print(\"requests not successfull, status code:\", pageWeather.status_code)\n",
    "    print(\"press enter to continue\")\n",
    "    input()\n",
    "    exit()\n",
    "\n",
    "# get the page content and keys\n",
    "rWeather = json.loads(pageWeather.content)\n",
    "rWeather.keys()"
   ]
  },
  {
   "cell_type": "code",
   "execution_count": 1,
   "id": "3b7450f2",
   "metadata": {},
   "outputs": [
    {
     "name": "stdout",
     "output_type": "stream",
     "text": [
      "Select a number to display information of the city weather:\n",
      "\n",
      "[1] Display all information\n",
      "[2] Display time\n",
      "[3] Display temperature and feels Like\n",
      "[4] Display min and max temperature\n",
      "[5] Display wind Speed\n",
      "[6] Display humidity\n",
      "[7] Display visibility\n",
      "[8] Display UV Index\n",
      "[9] Display it is day?\n",
      "[10] Display sunrise and sunset\n"
     ]
    }
   ],
   "source": [
    "#User is able to display \n",
    "\n",
    "print(\"Select a number to display information of the city weather:\")\n",
    "print()\n",
    "print(\"[1] Display all information\")\n",
    "print(\"[2] Display time\")\n",
    "print(\"[3] Display temperature and feels Like\")\n",
    "print(\"[4] Display min and max temperature\")\n",
    "print(\"[5] Display wind Speed\")\n",
    "print(\"[6] Display humidity\")\n",
    "print(\"[7] Display visibility\")\n",
    "print(\"[8] Display UV Index\")\n",
    "print(\"[9] Display it is day?\")\n",
    "print(\"[10] Display sunrise and sunset\")\n"
   ]
  },
  {
   "cell_type": "code",
   "execution_count": 5,
   "id": "8f43abe3",
   "metadata": {
    "scrolled": true
   },
   "outputs": [
    {
     "name": "stdout",
     "output_type": "stream",
     "text": [
      "select a number: 1\n",
      "\n",
      "Naguabo, Puerto Rico, United States of America\n",
      "Time: 2022-05-08 21:14\n",
      "Temperature: 81°\n",
      "Feels Like: 88°\n",
      "Min temperature: 72°\n",
      "Max temperature: 88°\n",
      "Wind Speed: 4 mph\n",
      "Humidity: 89 %\n",
      "Visibility: 10 miles\n",
      "UV Index: 1\n",
      "is it day?: no\n",
      "Sunrise: 05:54 AM\n",
      "Sunset: 06:46 PM\n"
     ]
    }
   ],
   "source": [
    "# get the key that is a date in which it changes every day \n",
    "for i in rWeather['forecast']:\n",
    "    getKey = rWeather['forecast'][i]\n",
    "\n",
    "selectChoice = input(\"select a number: \")\n",
    "print()\n",
    "\n",
    "if selectChoice == \"1\":\n",
    "    \n",
    "    print(rWeather[\"location\"]['name']+\", \"+ rWeather[\"location\"][\"region\"]+\", \"+rWeather[\"location\"][\"country\"])\n",
    "    print(\"Time: \" + (str(rWeather[\"location\"]['localtime'])))\n",
    "    print(\"Temperature: \" + (str(rWeather[\"current\"]['temperature']))+\"°\")\n",
    "    print(\"Feels Like: \" + (str(rWeather[\"current\"]['feelslike']))+ \"°\")\n",
    "    print(\"Min temperature: \" + (str(getKey['mintemp']))+\"°\")\n",
    "    print(\"Max temperature: \" + (str(getKey['maxtemp']))+\"°\")\n",
    "    print(\"Wind Speed: \" + (str(rWeather[\"current\"]['wind_speed']))+ \" mph\")\n",
    "    print(\"Humidity: \" + (str(rWeather[\"current\"]['humidity'])) +\" %\")\n",
    "    print(\"Visibility: \" + (str(rWeather[\"current\"]['visibility']))+ \" miles\")\n",
    "    print(\"UV Index: \" + (str(rWeather[\"current\"]['uv_index'])))\n",
    "    print(\"is it day?: \"+ (str(rWeather[\"current\"]['is_day'])))\n",
    "    print(\"Sunrise: \"+ (str(getKey['astro']['sunrise'])))\n",
    "    print(\"Sunset: \"+ (str(getKey['astro']['sunset'])))\n",
    "elif selectChoice == \"2\":\n",
    "    print(\"Time: \" + (str(rWeather[\"location\"]['localtime'])))   \n",
    "elif selectChoice == \"3\":\n",
    "    print(\"Temperature: \" + (str(rWeather[\"current\"]['temperature']))+ \"°\") \n",
    "    print(\"Feels Like: \" + (str(rWeather[\"current\"]['feelslike']))+ \"°\")\n",
    "elif selectChoice == \"4\":\n",
    "    print(\"Min temperature: \" + (str(getKey['mintemp']))+\"°\")\n",
    "    print(\"Max temperature: \" + (str(getKey['maxtemp']))+\"°\")\n",
    "elif selectChoice == \"5\":\n",
    "    print(\"Wind Speed: \" + (str(rWeather[\"current\"]['wind_speed'])) +\" mph\")   \n",
    "elif selectChoice == \"6\":\n",
    "    print(\"Humidity: \" + (str(rWeather[\"current\"]['humidity']))+ \" %\")    \n",
    "elif selectChoice == \"7\":\n",
    "    print(\"Visibility: \"+ (str(rWeather[\"current\"]['visibility']))+\" miles\")   \n",
    "elif selectChoice == \"8\":\n",
    "    print(\"UV Index: \" + (str(rWeather[\"current\"]['uv_index'])))    \n",
    "elif selectChoice == \"9\":\n",
    "    print(\"is it day?: \"+ (str(rWeather[\"current\"]['is_day'])))\n",
    "elif selecChoice == \"10\":\n",
    "    print(\"Sunrise: \"+ (str(getKey['astro']['sunrise'])))\n",
    "    print(\"Sunset: \"+ (str(getKey['astro']['sunset'])))\n",
    "else: \n",
    "    print(\"the input enter is not in the display option\")"
   ]
  },
  {
   "cell_type": "code",
   "execution_count": null,
   "id": "30a53f63",
   "metadata": {},
   "outputs": [],
   "source": [
    "#{\"request\":{\"type\":\"City\",\"query\":\"New York, United States of America\",\"language\":\"en\",\"unit\":\"m\"},\"location\":{\"name\":\"New York\",\"country\":\"United States of America\",\"region\":\"New York\",\"lat\":\"40.714\",\"lon\":\"-74.006\",\"timezone_id\":\"America\\/New_York\",\"localtime\":\"2022-04-29 00:04\",\"localtime_epoch\":1651190640,\"utc_offset\":\"-4.0\"},\"current\":{\"observation_time\":\"04:04 AM\",\"temperature\":9,\"weather_code\":113,\"weather_icons\":[\"https:\\/\\/assets.weatherstack.com\\/images\\/wsymbols01_png_64\\/wsymbol_0008_clear_sky_night.png\"],\"weather_descriptions\":[\"Clear\"],\"wind_speed\":26,\"wind_degree\":330,\"wind_dir\":\"NNW\",\"pressure\":1019,\"precip\":0,\"humidity\":22,\"cloudcover\":0,\"feelslike\":6,\"uv_index\":1,\"visibility\":16,\"is_day\":\"no\"}}\n",
    "#{\"request\":{\"type\":\"City\",\"query\":\"Willimantic, United States of America\",\"language\":\"en\",\"unit\":\"f\"},\"location\":{\"name\":\"Willimantic\",\"country\":\"United States of America\",\"region\":\"Connecticut\",\"lat\":\"41.711\",\"lon\":\"-72.209\",\"timezone_id\":\"America\\/New_York\",\"localtime\":\"2022-05-06 12:16\",\"localtime_epoch\":1651839360,\"utc_offset\":\"-4.0\"},\"current\":{\"observation_time\":\"04:16 PM\",\"temperature\":61,\"weather_code\":116,\"weather_icons\":[\"https:\\/\\/assets.weatherstack.com\\/images\\/wsymbols01_png_64\\/wsymbol_0002_sunny_intervals.png\"],\"weather_descriptions\":[\"Partly cloudy\"],\"wind_speed\":2,\"wind_degree\":155,\"wind_dir\":\"SSE\",\"pressure\":1015,\"precip\":0,\"humidity\":33,\"cloudcover\":50,\"feelslike\":61,\"uv_index\":4,\"visibility\":10,\"is_day\":\"yes\"},\"forecast\":{\"2022-05-05\":{\"date\":\"2022-05-05\",\"date_epoch\":1651708800,\"astro\":{\"sunrise\":\"05:40 AM\",\"sunset\":\"07:52 PM\",\"moonrise\":\"08:38 AM\",\"moonset\":\"No moonset\",\"moon_phase\":\"Waxing Crescent\",\"moon_illumination\":27},\"mintemp\":46,\"maxtemp\":72,\"avgtemp\":57,\"totalsnow\":0,\"sunhour\":13.8,\"uv_index\":8}}}\n",
    "# https://weatherstack.com/quickstart"
   ]
  }
 ],
 "metadata": {
  "celltoolbar": "Raw Cell Format",
  "kernelspec": {
   "display_name": "Python 3 (ipykernel)",
   "language": "python",
   "name": "python3"
  },
  "language_info": {
   "codemirror_mode": {
    "name": "ipython",
    "version": 3
   },
   "file_extension": ".py",
   "mimetype": "text/x-python",
   "name": "python",
   "nbconvert_exporter": "python",
   "pygments_lexer": "ipython3",
   "version": "3.9.7"
  }
 },
 "nbformat": 4,
 "nbformat_minor": 5
}
